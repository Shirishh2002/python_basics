{
 "cells": [
  {
   "cell_type": "code",
   "execution_count": 7,
   "metadata": {},
   "outputs": [
    {
     "name": "stdout",
     "output_type": "stream",
     "text": [
      "positive\n"
     ]
    }
   ],
   "source": [
    "#1.WAP to check wheather a number is positive.if positive,print a message positive.\n",
    "a=3\n",
    "if(a>=0):\n",
    "    print('positive')"
   ]
  },
  {
   "cell_type": "code",
   "execution_count": 9,
   "metadata": {},
   "outputs": [
    {
     "name": "stdout",
     "output_type": "stream",
     "text": [
      "hello world\n"
     ]
    }
   ],
   "source": [
    "#2.WAP to display hello world if the number is greater than 1 and lesser than 5.\n",
    "n=3\n",
    "if(n>1 and n<5):\n",
    "    print('hello world')\n"
   ]
  },
  {
   "cell_type": "code",
   "execution_count": 10,
   "metadata": {},
   "outputs": [
    {
     "name": "stdout",
     "output_type": "stream",
     "text": [
      "fizz\n"
     ]
    }
   ],
   "source": [
    "#3.WAP to check wheather to given number is divisible by 3 or not if print fizz.\n",
    "n=12\n",
    "if(n%3==0):\n",
    "    print('fizz')"
   ]
  },
  {
   "cell_type": "code",
   "execution_count": 11,
   "metadata": {},
   "outputs": [
    {
     "name": "stdout",
     "output_type": "stream",
     "text": [
      "complex\n"
     ]
    }
   ],
   "source": [
    "#4.WAP to check whether given input is divisible by 2 and 6. If the condition is satisfied, convert the given number into a complex number.\n",
    "n=18\n",
    "if(n%2==0 and n%6==0):\n",
    "    print('complex')"
   ]
  },
  {
   "cell_type": "code",
   "execution_count": 19,
   "metadata": {},
   "outputs": [
    {
     "name": "stdout",
     "output_type": "stream",
     "text": [
      "['3', '0']\n"
     ]
    }
   ],
   "source": [
    "#5.WAP to check whether a given input is divisible by 3 or 5. If the condition is satisfied, the number is converted to a list.i/p: 30 o/p:[‘3’,’0’]\n",
    "a=30\n",
    "if(a%3==0 or a%5==0):\n",
    "    a=str(a)\n",
    "    print(list(a))"
   ]
  },
  {
   "cell_type": "code",
   "execution_count": 20,
   "metadata": {},
   "outputs": [
    {
     "name": "stdout",
     "output_type": "stream",
     "text": [
      "20\n"
     ]
    }
   ],
   "source": [
    "#6.Write a program to check whether a given number is multiple of 5 or not.\n",
    "n=20\n",
    "if(n%5==0):\n",
    "    print(n)"
   ]
  },
  {
   "cell_type": "code",
   "execution_count": 21,
   "metadata": {},
   "outputs": [
    {
     "name": "stdout",
     "output_type": "stream",
     "text": [
      "0\n"
     ]
    }
   ],
   "source": [
    "#7.WAP to check whether the given input is 0 or not if 0 prints 0.\n",
    "n=0\n",
    "if(n==0):\n",
    "    print(n)"
   ]
  },
  {
   "cell_type": "code",
   "execution_count": 22,
   "metadata": {},
   "outputs": [
    {
     "name": "stdout",
     "output_type": "stream",
     "text": [
      "negative\n"
     ]
    }
   ],
   "source": [
    "#8.WAP to check whether a number is negative. If negative, print a message negative.\n",
    "m=-8\n",
    "if(n<=0):\n",
    "    print('negative')\n"
   ]
  },
  {
   "cell_type": "code",
   "execution_count": 23,
   "metadata": {},
   "outputs": [
    {
     "name": "stdout",
     "output_type": "stream",
     "text": [
      "[10]\n"
     ]
    }
   ],
   "source": [
    "#9.WAP to check whether a number is even or not. If even, store the value inside the list.\n",
    "n=10\n",
    "l=[]\n",
    "if(n%2==0):\n",
    "    l.append(n)\n",
    "    print(l)"
   ]
  },
  {
   "cell_type": "code",
   "execution_count": 25,
   "metadata": {},
   "outputs": [
    {
     "name": "stdout",
     "output_type": "stream",
     "text": [
      "[9]\n",
      "(9,)\n"
     ]
    }
   ],
   "source": [
    "#10.WAP to check whether a number is odd or not. If odd, store the value inside the tuple.\n",
    "n=9\n",
    "l=[]\n",
    "if(n%2!=0):\n",
    "    l.append(n)\n",
    "    t=tuple(l)\n",
    "    print(l)\n",
    "    print(t)\n",
    "    "
   ]
  },
  {
   "cell_type": "code",
   "execution_count": 31,
   "metadata": {},
   "outputs": [
    {
     "name": "stdout",
     "output_type": "stream",
     "text": [
      "256\n"
     ]
    }
   ],
   "source": [
    "#11.WAP to check if the given number is even or not. if it is yes, to print the power of 4 in a given number.\n",
    "m=4\n",
    "if(m%2==0):\n",
    "    print(m**4)"
   ]
  },
  {
   "cell_type": "code",
   "execution_count": 32,
   "metadata": {},
   "outputs": [
    {
     "name": "stdout",
     "output_type": "stream",
     "text": [
      "18\n"
     ]
    }
   ],
   "source": [
    "#12.WAP to take the input from the user as a number and check whether it is a number or not. if yes. take the number and add some value and print it.\n",
    "n=10\n",
    "if(n>8):\n",
    "    print(n+8)"
   ]
  },
  {
   "cell_type": "code",
   "execution_count": 34,
   "metadata": {},
   "outputs": [
    {
     "name": "stdout",
     "output_type": "stream",
     "text": [
      "hello world\n"
     ]
    }
   ],
   "source": [
    "#13.WAP to display hello world if the number is greater than 1 and lesser than 5.\n",
    "a=3\n",
    "if(1<=a<5):\n",
    "    print(\"hello world\")"
   ]
  },
  {
   "cell_type": "code",
   "execution_count": 35,
   "metadata": {},
   "outputs": [
    {
     "name": "stdout",
     "output_type": "stream",
     "text": [
      "35\n"
     ]
    }
   ],
   "source": [
    "#14.WAP to check whether a given value is divisible by 5 and 7. If the value is divisible,to display the square of the values.\n",
    "n=35\n",
    "if(n%5==0 and n%7==0):\n",
    "    print(5*7)"
   ]
  },
  {
   "cell_type": "code",
   "execution_count": 36,
   "metadata": {},
   "outputs": [
    {
     "name": "stdout",
     "output_type": "stream",
     "text": [
      "19\n"
     ]
    }
   ],
   "source": [
    "#15.WAP to check whether the given value's last digit is greater than 5 or not.if greater, to perform the bitwise right shift operator(skipping value 2).\n",
    "c=78\n",
    "d=c>>2\n",
    "if(c%10>5):\n",
    "    print(d)"
   ]
  },
  {
   "cell_type": "code",
   "execution_count": 38,
   "metadata": {},
   "outputs": [
    {
     "name": "stdout",
     "output_type": "stream",
     "text": [
      "324\n"
     ]
    }
   ],
   "source": [
    "#16.WAP to check whether a given value is divisible by 3 and less than 30. If the value is divisible,to display the square of the value.\n",
    "n=18\n",
    "if(n%3==0 and n<30):\n",
    "    print(n*n)"
   ]
  },
  {
   "cell_type": "code",
   "execution_count": 39,
   "metadata": {},
   "outputs": [
    {
     "name": "stdout",
     "output_type": "stream",
     "text": [
      "1728\n"
     ]
    }
   ],
   "source": [
    "#17.wAP to check whether a given value is an even number and divisible by 4. If satisfied ,to display the cube of the values.\n",
    "n=12\n",
    "if(n%4==0):\n",
    "    print(n**3)"
   ]
  },
  {
   "cell_type": "code",
   "execution_count": 40,
   "metadata": {},
   "outputs": [
    {
     "name": "stdout",
     "output_type": "stream",
     "text": [
      "[10]\n"
     ]
    }
   ],
   "source": [
    "#18.WAP to check whether a given value is even or not. If the even number stores the value inside the list.\n",
    "a=10\n",
    "l=[]\n",
    "if(a%2==0):\n",
    "    l.append(a)\n",
    "    print(l)"
   ]
  },
  {
   "cell_type": "code",
   "execution_count": 43,
   "metadata": {},
   "outputs": [
    {
     "name": "stdout",
     "output_type": "stream",
     "text": [
      "2\n",
      "2\n"
     ]
    }
   ],
   "source": [
    "#19.WAP to check whether a given value is a negative or even number. If satisfied ,to display the last digit of the values.\n",
    "n=12\n",
    "if(n<0 or n%2==0):\n",
    "    print(n%10)\n",
    "    #or\n",
    "    a=20\n",
    "    if(n<0 or n%2!=1):\n",
    "        print(n%10)"
   ]
  },
  {
   "cell_type": "code",
   "execution_count": 44,
   "metadata": {},
   "outputs": [
    {
     "name": "stdout",
     "output_type": "stream",
     "text": [
      "-512\n"
     ]
    }
   ],
   "source": [
    "#20.WAP to check whether a given value is a negative or odd number and divisible by 4. If satisfied ,to display the cube of the values.\n",
    "a=-8\n",
    "if(a<0 or a%2!=0):\n",
    "    print(a**3)"
   ]
  },
  {
   "cell_type": "code",
   "execution_count": 46,
   "metadata": {},
   "outputs": [
    {
     "name": "stdout",
     "output_type": "stream",
     "text": [
      "D\n"
     ]
    }
   ],
   "source": [
    "#21.WAP to check whether a given ascii value is divisible by 4 and even value. If satisfied, to display the ascii character.\n",
    "a=68\n",
    "if(a%4==0):\n",
    "    print(chr(a))"
   ]
  }
 ],
 "metadata": {
  "kernelspec": {
   "display_name": "Python 3",
   "language": "python",
   "name": "python3"
  },
  "language_info": {
   "codemirror_mode": {
    "name": "ipython",
    "version": 3
   },
   "file_extension": ".py",
   "mimetype": "text/x-python",
   "name": "python",
   "nbconvert_exporter": "python",
   "pygments_lexer": "ipython3",
   "version": "3.10.11"
  },
  "orig_nbformat": 4
 },
 "nbformat": 4,
 "nbformat_minor": 2
}
