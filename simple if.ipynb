{
 "cells": [
  {
   "cell_type": "code",
   "execution_count": 7,
   "metadata": {},
   "outputs": [
    {
     "name": "stdout",
     "output_type": "stream",
     "text": [
      "positive\n"
     ]
    }
   ],
   "source": [
    "#1.WAP to check wheather a number is positive.if positive,print a message positive.\n",
    "a=3\n",
    "if(a>=0):\n",
    "    print('positive')"
   ]
  },
  {
   "cell_type": "code",
   "execution_count": 9,
   "metadata": {},
   "outputs": [
    {
     "name": "stdout",
     "output_type": "stream",
     "text": [
      "hello world\n"
     ]
    }
   ],
   "source": [
    "#2.WAP to display hello world if the number is greater than 1 and lesser than 5.\n",
    "n=3\n",
    "if(n>1 and n<5):\n",
    "    print('hello world')\n"
   ]
  },
  {
   "cell_type": "code",
   "execution_count": 10,
   "metadata": {},
   "outputs": [
    {
     "name": "stdout",
     "output_type": "stream",
     "text": [
      "fizz\n"
     ]
    }
   ],
   "source": [
    "#3.WAP to check wheather to given number is divisible by 3 or not if print fizz.\n",
    "n=12\n",
    "if(n%3==0):\n",
    "    print('fizz')"
   ]
  },
  {
   "cell_type": "code",
   "execution_count": 11,
   "metadata": {},
   "outputs": [
    {
     "name": "stdout",
     "output_type": "stream",
     "text": [
      "complex\n"
     ]
    }
   ],
   "source": [
    "#4.WAP to check whether given input is divisible by 2 and 6. If the condition is satisfied, convert the given number into a complex number.\n",
    "n=18\n",
    "if(n%2==0 and n%6==0):\n",
    "    print('complex')"
   ]
  },
  {
   "cell_type": "code",
   "execution_count": 19,
   "metadata": {},
   "outputs": [
    {
     "name": "stdout",
     "output_type": "stream",
     "text": [
      "['3', '0']\n"
     ]
    }
   ],
   "source": [
    "#5.WAP to check whether a given input is divisible by 3 or 5. If the condition is satisfied, the number is converted to a list.i/p: 30 o/p:[‘3’,’0’]\n",
    "a=30\n",
    "if(a%3==0 or a%5==0):\n",
    "    a=str(a)\n",
    "    print(list(a))"
   ]
  },
  {
   "cell_type": "code",
   "execution_count": 20,
   "metadata": {},
   "outputs": [
    {
     "name": "stdout",
     "output_type": "stream",
     "text": [
      "20\n"
     ]
    }
   ],
   "source": [
    "#6.Write a program to check whether a given number is multiple of 5 or not.\n",
    "n=20\n",
    "if(n%5==0):\n",
    "    print(n)"
   ]
  },
  {
   "cell_type": "code",
   "execution_count": 21,
   "metadata": {},
   "outputs": [
    {
     "name": "stdout",
     "output_type": "stream",
     "text": [
      "0\n"
     ]
    }
   ],
   "source": [
    "#7.WAP to check whether the given input is 0 or not if 0 prints 0.\n",
    "n=0\n",
    "if(n==0):\n",
    "    print(n)"
   ]
  },
  {
   "cell_type": "code",
   "execution_count": 22,
   "metadata": {},
   "outputs": [
    {
     "name": "stdout",
     "output_type": "stream",
     "text": [
      "negative\n"
     ]
    }
   ],
   "source": [
    "#8.WAP to check whether a number is negative. If negative, print a message negative.\n",
    "m=-8\n",
    "if(n<=0):\n",
    "    print('negative')\n"
   ]
  },
  {
   "cell_type": "code",
   "execution_count": 23,
   "metadata": {},
   "outputs": [
    {
     "name": "stdout",
     "output_type": "stream",
     "text": [
      "[10]\n"
     ]
    }
   ],
   "source": [
    "#9.WAP to check whether a number is even or not. If even, store the value inside the list.\n",
    "n=10\n",
    "l=[]\n",
    "if(n%2==0):\n",
    "    l.append(n)\n",
    "    print(l)"
   ]
  },
  {
   "cell_type": "code",
   "execution_count": 25,
   "metadata": {},
   "outputs": [
    {
     "name": "stdout",
     "output_type": "stream",
     "text": [
      "[9]\n",
      "(9,)\n"
     ]
    }
   ],
   "source": [
    "#10.WAP to check whether a number is odd or not. If odd, store the value inside the tuple.\n",
    "n=9\n",
    "l=[]\n",
    "if(n%2!=0):\n",
    "    l.append(n)\n",
    "    t=tuple(l)\n",
    "    print(l)\n",
    "    print(t)\n",
    "    "
   ]
  },
  {
   "cell_type": "code",
   "execution_count": 31,
   "metadata": {},
   "outputs": [
    {
     "name": "stdout",
     "output_type": "stream",
     "text": [
      "256\n"
     ]
    }
   ],
   "source": [
    "#11.WAP to check if the given number is even or not. if it is yes, to print the power of 4 in a given number.\n",
    "m=4\n",
    "if(m%2==0):\n",
    "    print(m**4)"
   ]
  },
  {
   "cell_type": "code",
   "execution_count": 32,
   "metadata": {},
   "outputs": [
    {
     "name": "stdout",
     "output_type": "stream",
     "text": [
      "18\n"
     ]
    }
   ],
   "source": [
    "#12.WAP to take the input from the user as a number and check whether it is a number or not. if yes. take the number and add some value and print it.\n",
    "n=10\n",
    "if(n>8):\n",
    "    print(n+8)"
   ]
  },
  {
   "cell_type": "code",
   "execution_count": 34,
   "metadata": {},
   "outputs": [
    {
     "name": "stdout",
     "output_type": "stream",
     "text": [
      "hello world\n"
     ]
    }
   ],
   "source": [
    "#13.WAP to display hello world if the number is greater than 1 and lesser than 5.\n",
    "a=3\n",
    "if(1<=a<5):\n",
    "    print(\"hello world\")"
   ]
  },
  {
   "cell_type": "code",
   "execution_count": 35,
   "metadata": {},
   "outputs": [
    {
     "name": "stdout",
     "output_type": "stream",
     "text": [
      "35\n"
     ]
    }
   ],
   "source": [
    "#14.WAP to check whether a given value is divisible by 5 and 7. If the value is divisible,to display the square of the values.\n",
    "n=35\n",
    "if(n%5==0 and n%7==0):\n",
    "    print(5*7)"
   ]
  },
  {
   "cell_type": "code",
   "execution_count": 36,
   "metadata": {},
   "outputs": [
    {
     "name": "stdout",
     "output_type": "stream",
     "text": [
      "19\n"
     ]
    }
   ],
   "source": [
    "#15.WAP to check whether the given value's last digit is greater than 5 or not.if greater, to perform the bitwise right shift operator(skipping value 2).\n",
    "c=78\n",
    "d=c>>2\n",
    "if(c%10>5):\n",
    "    print(d)"
   ]
  },
  {
   "cell_type": "code",
   "execution_count": 38,
   "metadata": {},
   "outputs": [
    {
     "name": "stdout",
     "output_type": "stream",
     "text": [
      "324\n"
     ]
    }
   ],
   "source": [
    "#16.WAP to check whether a given value is divisible by 3 and less than 30. If the value is divisible,to display the square of the value.\n",
    "n=18\n",
    "if(n%3==0 and n<30):\n",
    "    print(n*n)"
   ]
  },
  {
   "cell_type": "code",
   "execution_count": 39,
   "metadata": {},
   "outputs": [
    {
     "name": "stdout",
     "output_type": "stream",
     "text": [
      "1728\n"
     ]
    }
   ],
   "source": [
    "#17.wAP to check whether a given value is an even number and divisible by 4. If satisfied ,to display the cube of the values.\n",
    "n=12\n",
    "if(n%4==0):\n",
    "    print(n**3)"
   ]
  },
  {
   "cell_type": "code",
   "execution_count": 40,
   "metadata": {},
   "outputs": [
    {
     "name": "stdout",
     "output_type": "stream",
     "text": [
      "[10]\n"
     ]
    }
   ],
   "source": [
    "#18.WAP to check whether a given value is even or not. If the even number stores the value inside the list.\n",
    "a=10\n",
    "l=[]\n",
    "if(a%2==0):\n",
    "    l.append(a)\n",
    "    print(l)"
   ]
  },
  {
   "cell_type": "code",
   "execution_count": 43,
   "metadata": {},
   "outputs": [
    {
     "name": "stdout",
     "output_type": "stream",
     "text": [
      "2\n",
      "2\n"
     ]
    }
   ],
   "source": [
    "#19.WAP to check whether a given value is a negative or even number. If satisfied ,to display the last digit of the values.\n",
    "n=12\n",
    "if(n<0 or n%2==0):\n",
    "    print(n%10)\n",
    "    #or\n",
    "    a=20\n",
    "    if(n<0 or n%2!=1):\n",
    "        print(n%10)"
   ]
  },
  {
   "cell_type": "code",
   "execution_count": 44,
   "metadata": {},
   "outputs": [
    {
     "name": "stdout",
     "output_type": "stream",
     "text": [
      "-512\n"
     ]
    }
   ],
   "source": [
    "#20.WAP to check whether a given value is a negative or odd number and divisible by 4. If satisfied ,to display the cube of the values.\n",
    "a=-8\n",
    "if(a<0 or a%2!=0):\n",
    "    print(a**3)"
   ]
  },
  {
   "cell_type": "code",
   "execution_count": 46,
   "metadata": {},
   "outputs": [
    {
     "name": "stdout",
     "output_type": "stream",
     "text": [
      "D\n"
     ]
    }
   ],
   "source": [
    "#21.WAP to check whether a given ascii value is divisible by 4 and even value. If satisfied, to display the ascii character.\n",
    "a=68\n",
    "if(a%4==0):\n",
    "    print(chr(a))"
   ]
  },
  {
   "cell_type": "code",
   "execution_count": 1,
   "metadata": {},
   "outputs": [
    {
     "name": "stdout",
     "output_type": "stream",
     "text": [
      "x\n",
      "<\n",
      "P\n",
      "d\n"
     ]
    }
   ],
   "source": [
    "#22.WAP to check whether a given value is present in between 45 to 125 and the number should be divisible by 4 and 5 and even value. If satisfied, to display the ascii character.\n",
    "a=120\n",
    "if(45<=a<125 and a%4==0 and a%5==0 and a%2==0):\n",
    "    print(chr(a))\n",
    "    #or\n",
    "    a=60\n",
    "if(45<=a<125 and a%4==0 and a%5==0 and a%2==0):\n",
    "    print(chr(a))\n",
    "    #or\n",
    "    a=80\n",
    "if(45<=a<125 and a%4==0 and a%5==0 and a%2==0):\n",
    "    print(chr(a))\n",
    "    #or\n",
    "    a=100\n",
    "if(45<=a<125 and a%4==0 and a%5==0 and a%2==0):\n",
    "    print(chr(a))"
   ]
  },
  {
   "cell_type": "code",
   "execution_count": 2,
   "metadata": {},
   "outputs": [
    {
     "name": "stdout",
     "output_type": "stream",
     "text": [
      "400\n"
     ]
    }
   ],
   "source": [
    "#23.WAP to check whether a given value is present in between 25 to 100 and the number should be divisible by 4 and 5. If satisfied, to display multiplication of given value with 5.\n",
    "a=80\n",
    "if(25<=a<100 and a%4==0 and a%5==0):\n",
    "    print(a*5)"
   ]
  },
  {
   "cell_type": "code",
   "execution_count": 3,
   "metadata": {},
   "outputs": [
    {
     "name": "stdout",
     "output_type": "stream",
     "text": [
      "45\n"
     ]
    }
   ],
   "source": [
    "#24.WAP to check whether a given number is an integer and odd number. If the condition is satisfied, the integer is divisible by 5 and displays the result.\n",
    "a=9\n",
    "if(type(a) and a%2!=0):\n",
    "    print(a*5)"
   ]
  },
  {
   "cell_type": "code",
   "execution_count": 4,
   "metadata": {},
   "outputs": [
    {
     "name": "stdout",
     "output_type": "stream",
     "text": [
      "9\n"
     ]
    }
   ],
   "source": [
    "#25.WAP to check whether a given value is an integer or not. If integer, the given value is converted to string and displays the result.\n",
    "a=9\n",
    "if(type(a)):\n",
    "    print(str(a))"
   ]
  },
  {
   "cell_type": "code",
   "execution_count": 5,
   "metadata": {},
   "outputs": [
    {
     "name": "stdout",
     "output_type": "stream",
     "text": [
      "120\n",
      "i\n"
     ]
    }
   ],
   "source": [
    "#26.WAP to check whether a given value is less than 125 and greater than 60 or not. If the condition is satisfied, take the name and extract the middle character and display it.\n",
    "a=120\n",
    "b=\"lalith\" \n",
    "if(60<=a<125):\n",
    "\n",
    "    print(a)\n",
    "    print(b [len(b)//2])"
   ]
  },
  {
   "cell_type": "code",
   "execution_count": 6,
   "metadata": {},
   "outputs": [
    {
     "name": "stdout",
     "output_type": "stream",
     "text": [
      "20\n"
     ]
    }
   ],
   "source": [
    "#27.WAP to check whether a given two integers are equal or not. If both are equal, to perform addition and display the result.\n",
    "a=10\n",
    "b=10\n",
    "if(a==b):\n",
    "    print(a+b)"
   ]
  },
  {
   "cell_type": "code",
   "execution_count": 7,
   "metadata": {},
   "outputs": [
    {
     "name": "stdout",
     "output_type": "stream",
     "text": [
      "1\n"
     ]
    }
   ],
   "source": [
    "#28.WAP to check whether two values are equal or not. if equal, to perform multiplication of two numbers and that result is division by 3 and display the value\n",
    "a=5\n",
    "b=5\n",
    "if(a==b):\n",
    "    c=a*b\n",
    "    print(c%3)"
   ]
  },
  {
   "cell_type": "code",
   "execution_count": 8,
   "metadata": {},
   "outputs": [
    {
     "name": "stdout",
     "output_type": "stream",
     "text": [
      "{'A': 65}\n"
     ]
    }
   ],
   "source": [
    "#29.WAP to check whether a character is in the alphabet or not. If the alphabet, store the value inside the dict(key as a character and value as an ascii value).\n",
    "a=\"A\"\n",
    "\n",
    "d={}\n",
    "if ('a'<=a<='z' or 'A'<=a<='Z'):\n",
    "\td[a]=ord(a)\n",
    "print(d)"
   ]
  },
  {
   "cell_type": "code",
   "execution_count": 9,
   "metadata": {},
   "outputs": [
    {
     "name": "stdout",
     "output_type": "stream",
     "text": [
      "{'B': 66}\n"
     ]
    }
   ],
   "source": [
    "#30.WAP to check whether a character is in the uppercase or not. If the uppercase,store the value inside the dict(key as a character and value as an ascii value).\n",
    "a=\"B\"\n",
    "d={}\n",
    "if(a.upper):\n",
    "    d[a]=ord(a)\n",
    "print(d)    "
   ]
  },
  {
   "cell_type": "code",
   "execution_count": 10,
   "metadata": {},
   "outputs": [
    {
     "name": "stdout",
     "output_type": "stream",
     "text": [
      "{'b': 98}\n"
     ]
    }
   ],
   "source": [
    "#31.WAP to check whether a character is in the uppercase or not. If the uppercase, convert to lowercase and store the value inside the dict(character as a key and ascii value as a value).\n",
    "a=\"B\"\n",
    "a=a.lower()\n",
    "d={}\n",
    "if(\"a\"<=a<=\"z\"):\n",
    "    d[a]=ord(a)\n",
    "    print(d)"
   ]
  },
  {
   "cell_type": "code",
   "execution_count": 11,
   "metadata": {},
   "outputs": [
    {
     "name": "stdout",
     "output_type": "stream",
     "text": [
      "B\n"
     ]
    }
   ],
   "source": [
    "#32.WAP to check whether a character is in the lowercase or not. If the lowercase, to perform the replication operation on that character\n",
    "a=\"b\"\n",
    "if(a.islower()):\n",
    "    print(a.upper())"
   ]
  },
  {
   "cell_type": "code",
   "execution_count": 12,
   "metadata": {},
   "outputs": [
    {
     "name": "stdout",
     "output_type": "stream",
     "text": [
      "67\n"
     ]
    }
   ],
   "source": [
    "#33.WAP to check whether a character is in the ascii number or not. If the ascii number, to convert into integer\n",
    "a=\"C\"\n",
    "if(65<=ord(a)<=91):\n",
    "    print(ord(a))"
   ]
  },
  {
   "cell_type": "code",
   "execution_count": 13,
   "metadata": {},
   "outputs": [
    {
     "name": "stdout",
     "output_type": "stream",
     "text": [
      "@ 64\n"
     ]
    }
   ],
   "source": [
    "#34.WAP to check whether a character is in the special symbol or not. If the special symbol, to display a symbol with ascii value.\n",
    "a=\"@\"\n",
    "if (0<=ord(a)<=47 or 58<=ord(a)<=64   or 91<=ord(a)<=96 or 123<=ord(a)<=127):\n",
    "    print(a,ord(a))"
   ]
  },
  {
   "cell_type": "code",
   "execution_count": 14,
   "metadata": {},
   "outputs": [
    {
     "name": "stdout",
     "output_type": "stream",
     "text": [
      "even number\n"
     ]
    }
   ],
   "source": [
    "#35.WAP to check whether a character is an even number or not. If the even number, to display an even number.\n",
    "a=\"d\"\n",
    "if(ord(a)%2==0):\n",
    "    print(\"even number\")"
   ]
  },
  {
   "cell_type": "code",
   "execution_count": 15,
   "metadata": {},
   "outputs": [
    {
     "name": "stdout",
     "output_type": "stream",
     "text": [
      "20\n"
     ]
    }
   ],
   "source": [
    "#36.WAP to check whether a Given two integers a and b, if any of the integers is 10 or if their sum is 10, to perform the sum of the numbers and to display the square of the result.\n",
    "a=5\n",
    "b=5\n",
    "c=a+b\n",
    "print(c*2)\n"
   ]
  },
  {
   "cell_type": "code",
   "execution_count": 16,
   "metadata": {},
   "outputs": [
    {
     "name": "stdout",
     "output_type": "stream",
     "text": [
      "p\n"
     ]
    }
   ],
   "source": [
    "#37.WAP to check whether a character is in the vowel or not. If the vowel,print the next character.\n",
    "g= 'o'\n",
    "if(g in 'AEIOUaeiou'):\n",
    "    print(chr(ord(g)+1))\n"
   ]
  },
  {
   "cell_type": "code",
   "execution_count": 17,
   "metadata": {},
   "outputs": [
    {
     "name": "stdout",
     "output_type": "stream",
     "text": [
      "b\n"
     ]
    }
   ],
   "source": [
    "#38.WAP to check whether a character is in the not a vowel. If it's not a vowel,print the previous character\n",
    "g='c'\n",
    "if(g not in 'AEIOUaeiou'):\n",
    "    print(chr(ord(g)-1))"
   ]
  },
  {
   "cell_type": "code",
   "execution_count": 18,
   "metadata": {},
   "outputs": [
    {
     "name": "stdout",
     "output_type": "stream",
     "text": [
      "single value data type\n"
     ]
    }
   ],
   "source": [
    "#39.WAP to check whether a given value is a single value data type or not. If single value, display the given value as a single value data type.\n",
    "a = 20\n",
    "if type(a) in [int, float, bytes, complex, bool]:\n",
    "    print('single value data type')"
   ]
  },
  {
   "cell_type": "code",
   "execution_count": 19,
   "metadata": {},
   "outputs": [
    {
     "name": "stdout",
     "output_type": "stream",
     "text": [
      "(10, 20, 30)\n"
     ]
    }
   ],
   "source": [
    "#40.WAP to check whether a given value is a multi-value data type or not. If multi value, store the given value inside the tuple and display it\n",
    "a=[10,20,30]\n",
    "if type(a) in [str,list,tuple,set,dict]:\n",
    "    b=tuple(a)\n",
    "    print(b)"
   ]
  },
  {
   "cell_type": "code",
   "execution_count": 20,
   "metadata": {},
   "outputs": [
    {
     "name": "stdout",
     "output_type": "stream",
     "text": [
      "{(10, 20, 30)}\n"
     ]
    }
   ],
   "source": [
    "#41.WAP to check whether a given value is an immutable data type or not. If an immutable data type value, store the given value inside the set and display it\n",
    "a=(10,20,30)\n",
    "b=set()\n",
    "if type(a) in[str,tuple]:\n",
    "    b|={a}\n",
    "    print(b)"
   ]
  },
  {
   "cell_type": "code",
   "execution_count": 21,
   "metadata": {},
   "outputs": [
    {
     "name": "stdout",
     "output_type": "stream",
     "text": [
      "odd 51\n"
     ]
    }
   ],
   "source": [
    "#42.WAP to check whether the middle element of a given list is odd or not. If it is odd then print odd then print the number else directly print the number.\n",
    "a=[10,20,30,40,51,60,70,80,90]\n",
    "if(a[len(a)//2]%2==1):\n",
    "    print('odd',a[len(a)//2])\n",
    "else:\n",
    "    print(a [len(a)//2])\n"
   ]
  },
  {
   "cell_type": "code",
   "execution_count": 25,
   "metadata": {},
   "outputs": [
    {
     "name": "stdout",
     "output_type": "stream",
     "text": [
      "not illuri\n"
     ]
    }
   ],
   "source": [
    "#43.WAP Return a new string with \"not\" prefixed to the front of the original string. Return the string unmodified if the string already has the word \"not\" at the beginning.\n",
    "a='illuri'\n",
    "if(a[:3])=='not':\n",
    "    print(a)\n",
    "else:\n",
    "    print('not '+ a)\n"
   ]
  },
  {
   "cell_type": "code",
   "execution_count": 26,
   "metadata": {},
   "outputs": [
    {
     "name": "stdout",
     "output_type": "stream",
     "text": [
      "iluri\n"
     ]
    }
   ],
   "source": [
    "#44.WAP to check whether a given string(str) and one integer(n) value, to display a new string that is devoid of the character at index n. if you are given a non-empty string and an int n. The value of n will be a legitimate character index from the original string, therefore it will fall within the range of 0 to len(str)-1, inclusive.\n",
    "a = 'illuri'\n",
    "b = 2\n",
    "if len(a)>0 and 0<=b<=len(a)-1:\n",
    "    c = a[:b] + a[b+1:]\n",
    "    print(c)"
   ]
  },
  {
   "cell_type": "code",
   "execution_count": 27,
   "metadata": {},
   "outputs": [
    {
     "name": "stdout",
     "output_type": "stream",
     "text": [
      "56951632 56951632\n"
     ]
    }
   ],
   "source": [
    "#45.WAP to check whether the two variables are pointing to the same memory location or not if they are pointing to the same memory location then print the address of both the variables\n",
    "a=20\n",
    "b=20\n",
    "if(a is b):\n",
    "    print(id(a), id(b))"
   ]
  },
  {
   "cell_type": "code",
   "execution_count": 28,
   "metadata": {},
   "outputs": [
    {
     "name": "stdout",
     "output_type": "stream",
     "text": [
      "illur\n"
     ]
    }
   ],
   "source": [
    "#46.WAP to check whether the given length of the string is even or not. If the condition is satisfied, display the sequence of characters from zero position to length of collection -2\n",
    "a='illuri'\n",
    "if(len(a)%2==0):\n",
    "    a=a[0:4+1:1]\n",
    "    print(a)\n"
   ]
  },
  {
   "cell_type": "code",
   "execution_count": 29,
   "metadata": {},
   "outputs": [
    {
     "name": "stdout",
     "output_type": "stream",
     "text": [
      "irulli illuri\n"
     ]
    }
   ],
   "source": [
    "#47.WAP to check whether the two given strings are having the same values or not. If both are not the same values then swap the values of one variable to another variable after swapping print the two values\n",
    "a='illuri'\n",
    "b='irulli'\n",
    "if(a!=b):\n",
    "    a,b=b,a\n",
    "    print(a,b)\n"
   ]
  },
  {
   "cell_type": "code",
   "execution_count": 30,
   "metadata": {},
   "outputs": [
    {
     "name": "stdout",
     "output_type": "stream",
     "text": [
      "{'@': 64}\n"
     ]
    }
   ],
   "source": [
    "#48.WAP to check whether a given character is a special symbol or not. If satisfied, store the symbol as a key and value as a ascii value of the given character inside the dictionary\n",
    "a=\"@\"\n",
    "if (0<=ord(a)<=47 or 58<=ord(a)<=64   or 91<=ord(a)<=96 or 123<=ord(a)<=127):\n",
    "    b={a:ord(a)}\n",
    "    print(b)"
   ]
  },
  {
   "cell_type": "code",
   "execution_count": 31,
   "metadata": {},
   "outputs": [
    {
     "name": "stdout",
     "output_type": "stream",
     "text": [
      "{'a': 1, 'b': 2, 'c': 3, 'e': 4}\n"
     ]
    }
   ],
   "source": [
    "#49.WAP to check whether a given key is not present in the dictionary or not. If the key is not present, append the new key inside the dictionary\n",
    "d = {'a':1, 'b':2, 'c':3}\n",
    "if 'e' not in d:\n",
    "    d['e'] = 4\n",
    "    print(d)\n"
   ]
  },
  {
   "cell_type": "code",
   "execution_count": 33,
   "metadata": {},
   "outputs": [
    {
     "name": "stdout",
     "output_type": "stream",
     "text": [
      "illurii\n"
     ]
    }
   ],
   "source": [
    "#50.WAP whether a given string, and it displays a new string with the first and last characters switched.\n",
    "a='illuri'\n",
    "if(type(a)==str):\n",
    "    b=a[-1]+a[1:]+a[0]\n",
    "    print(b)"
   ]
  },
  {
   "cell_type": "code",
   "execution_count": 34,
   "metadata": {},
   "outputs": [
    {
     "name": "stdout",
     "output_type": "stream",
     "text": [
      "2\n"
     ]
    }
   ],
   "source": [
    "#51.WAP to check whether the last digit should be 2 in the given number then print the last digit\n",
    "a=1254542\n",
    "if(a%10==2):\n",
    "    print(a%10)"
   ]
  },
  {
   "cell_type": "code",
   "execution_count": 35,
   "metadata": {},
   "outputs": [
    {
     "name": "stdout",
     "output_type": "stream",
     "text": [
      "100\n"
     ]
    }
   ],
   "source": [
    "#52.WAP to check whether the given two integers a and b, if any of the integers is 10 or if their sum is 10, to perform the sum of the numbers and to display the square of the result.\n",
    "a=5\n",
    "b=5\n",
    "\n",
    "if(a==10 or b == 10 or a+b == 10):\n",
    "    c=a+b\n",
    "    print(c**2)\n"
   ]
  },
  {
   "cell_type": "code",
   "execution_count": 36,
   "metadata": {},
   "outputs": [
    {
     "name": "stdout",
     "output_type": "stream",
     "text": [
      "iluri\n"
     ]
    }
   ],
   "source": [
    "#53.WAP to check whether a given string(str) and one integer(n) value, to display a new string that is devoid of the character at index n. if you are given a non-empty string and an int n. The value of n will be a legitimate character index from the original string, therefore it will fall within the range of 0 to len(str)-1, inclusive.\n",
    "a = 'illuri'\n",
    "b = 2\n",
    "if len(a)>0 and 0<=b<=len(a)-1:\n",
    "    c = a[:b] + a[b+1:]\n",
    "    print(c)"
   ]
  },
  {
   "cell_type": "code",
   "execution_count": 37,
   "metadata": {},
   "outputs": [
    {
     "name": "stdout",
     "output_type": "stream",
     "text": [
      "illuri illuri\n",
      "illuri kumar 12 illuri 6\n"
     ]
    }
   ],
   "source": [
    "#54.WAP to check whether both string collections are equal or not if it is not equal print the both strings along with the length of a string if both are equal ignore it\n",
    "a='illuri'\n",
    "b='illuri'\n",
    "if(a==b):\n",
    "    print(a,b)\n",
    "    \n",
    "    #or\n",
    "a='illuri kumar'\n",
    "b='illuri'\n",
    "if(a!=b):\n",
    "    print(a,len(a),b,len(b))\n",
    "    "
   ]
  }
 ],
 "metadata": {
  "kernelspec": {
   "display_name": "Python 3",
   "language": "python",
   "name": "python3"
  },
  "language_info": {
   "codemirror_mode": {
    "name": "ipython",
    "version": 3
   },
   "file_extension": ".py",
   "mimetype": "text/x-python",
   "name": "python",
   "nbconvert_exporter": "python",
   "pygments_lexer": "ipython3",
   "version": "3.10.11"
  },
  "orig_nbformat": 4
 },
 "nbformat": 4,
 "nbformat_minor": 2
}
